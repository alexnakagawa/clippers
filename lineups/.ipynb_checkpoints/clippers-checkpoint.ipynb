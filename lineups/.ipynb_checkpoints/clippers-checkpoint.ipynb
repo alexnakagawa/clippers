{
 "cells": [
  {
   "cell_type": "code",
   "execution_count": 2,
   "metadata": {
    "ExecuteTime": {
     "end_time": "2020-05-21T22:36:18.930643Z",
     "start_time": "2020-05-21T22:36:18.797733Z"
    },
    "cell_id": "0929c258-e8e7-4de5-a0c3-f8a4bec085ee"
   },
   "outputs": [
    {
     "name": "stdout",
     "output_type": "stream",
     "text": [
      "Python 3.8.1\r\n"
     ]
    }
   ],
   "source": [
    "!python3 --version"
   ]
  },
  {
   "cell_type": "markdown",
   "metadata": {
    "cell_id": "c69c2c2c-d303-4a6e-89c9-96ed862d940e",
    "tags": []
   },
   "source": [
    "# LA Clippers Lineup Analysis\n",
    "\n",
    "Author: Alex Nakagawa\n",
    "\n",
    "Last Updated: May 18, 2020"
   ]
  },
  {
   "cell_type": "markdown",
   "metadata": {
    "cell_id": "534b3a78-0b81-4566-be5f-34a412bd5ae7",
    "tags": []
   },
   "source": [
    "## 1. Table Creation in PostgreSQL\n",
    "\n",
    "a. Write code to transfer the files from a directory called dev_test_data to a SQL database called lac_dev_lineups (code can be Python, SQL, etc.)\n",
    "\n",
    "i. The tables created should be named `team`, `player`, `game_schedule`, and `lineup`\n",
    "\n",
    "ii. Make sure your code creates tables if needed and that it can handle data reloads, merges, and/or\n",
    "updates\n"
   ]
  },
  {
   "cell_type": "code",
   "execution_count": 2,
   "metadata": {
    "cell_id": "539f5b47-ef5b-4991-8b03-1a0ffdeba39c",
    "tags": []
   },
   "outputs": [],
   "source": [
    "# Determining the schema needed to design the database\n",
    "import json\n",
    "import glob\n",
    "import re\n",
    "\n",
    "def create_data_map(directory):\n",
    "    data_file_paths = glob.glob(\"{}/*.json\".format(directory))\n",
    "    data = {} # Dictionary of python-encoded json objects\n",
    "    for f in data_file_paths:\n",
    "        search_obj = re.search(r'dev_test_data/(.+).json', data_file_paths[0], re.M|re.I) \n",
    "        subfile_name = search_obj.group(1) # Return file name\n",
    "        with open(f, \"r\") as read_file:\n",
    "            data[subfile_name] = json.load(read_file)\n",
    "    return data\n",
    "\n",
    "data = create_data_map('dev_test_data')"
   ]
  },
  {
   "cell_type": "code",
   "execution_count": 12,
   "metadata": {
    "ExecuteTime": {
     "end_time": "2020-05-21T23:14:20.542822Z",
     "start_time": "2020-05-21T23:14:20.530071Z"
    },
    "cell_id": "d87f8df0-3dc8-4d4b-813c-597fd5aa7ee3",
    "tags": []
   },
   "outputs": [
    {
     "ename": "KeyError",
     "evalue": "'DATABASE_URL'",
     "output_type": "error",
     "traceback": [
      "\u001b[0;31m---------------------------------------------------------------------------\u001b[0m",
      "\u001b[0;31mKeyError\u001b[0m                                  Traceback (most recent call last)",
      "\u001b[0;32m<ipython-input-12-497c1b8897d7>\u001b[0m in \u001b[0;36m<module>\u001b[0;34m\u001b[0m\n\u001b[1;32m      3\u001b[0m \u001b[0;32mimport\u001b[0m \u001b[0mos\u001b[0m\u001b[0;34m\u001b[0m\u001b[0;34m\u001b[0m\u001b[0m\n\u001b[1;32m      4\u001b[0m \u001b[0;34m\u001b[0m\u001b[0m\n\u001b[0;32m----> 5\u001b[0;31m \u001b[0mDATABASE_URL\u001b[0m \u001b[0;34m=\u001b[0m \u001b[0mos\u001b[0m\u001b[0;34m.\u001b[0m\u001b[0menviron\u001b[0m\u001b[0;34m[\u001b[0m\u001b[0;34m'DATABASE_URL'\u001b[0m\u001b[0;34m]\u001b[0m\u001b[0;34m\u001b[0m\u001b[0;34m\u001b[0m\u001b[0m\n\u001b[0m\u001b[1;32m      6\u001b[0m \u001b[0mDATABASE_URL\u001b[0m\u001b[0;34m\u001b[0m\u001b[0;34m\u001b[0m\u001b[0m\n\u001b[1;32m      7\u001b[0m \u001b[0mconn\u001b[0m \u001b[0;34m=\u001b[0m \u001b[0mpsycopg2\u001b[0m\u001b[0;34m.\u001b[0m\u001b[0mconnect\u001b[0m\u001b[0;34m(\u001b[0m\u001b[0mDATABASE_URL\u001b[0m\u001b[0;34m,\u001b[0m \u001b[0msslmode\u001b[0m\u001b[0;34m=\u001b[0m\u001b[0;34m'require'\u001b[0m\u001b[0;34m)\u001b[0m\u001b[0;34m\u001b[0m\u001b[0;34m\u001b[0m\u001b[0m\n",
      "\u001b[0;32m/Library/Frameworks/Python.framework/Versions/3.8/lib/python3.8/os.py\u001b[0m in \u001b[0;36m__getitem__\u001b[0;34m(self, key)\u001b[0m\n\u001b[1;32m    671\u001b[0m         \u001b[0;32mexcept\u001b[0m \u001b[0mKeyError\u001b[0m\u001b[0;34m:\u001b[0m\u001b[0;34m\u001b[0m\u001b[0;34m\u001b[0m\u001b[0m\n\u001b[1;32m    672\u001b[0m             \u001b[0;31m# raise KeyError with the original key value\u001b[0m\u001b[0;34m\u001b[0m\u001b[0;34m\u001b[0m\u001b[0;34m\u001b[0m\u001b[0m\n\u001b[0;32m--> 673\u001b[0;31m             \u001b[0;32mraise\u001b[0m \u001b[0mKeyError\u001b[0m\u001b[0;34m(\u001b[0m\u001b[0mkey\u001b[0m\u001b[0;34m)\u001b[0m \u001b[0;32mfrom\u001b[0m \u001b[0;32mNone\u001b[0m\u001b[0;34m\u001b[0m\u001b[0;34m\u001b[0m\u001b[0m\n\u001b[0m\u001b[1;32m    674\u001b[0m         \u001b[0;32mreturn\u001b[0m \u001b[0mself\u001b[0m\u001b[0;34m.\u001b[0m\u001b[0mdecodevalue\u001b[0m\u001b[0;34m(\u001b[0m\u001b[0mvalue\u001b[0m\u001b[0;34m)\u001b[0m\u001b[0;34m\u001b[0m\u001b[0;34m\u001b[0m\u001b[0m\n\u001b[1;32m    675\u001b[0m \u001b[0;34m\u001b[0m\u001b[0m\n",
      "\u001b[0;31mKeyError\u001b[0m: 'DATABASE_URL'"
     ]
    }
   ],
   "source": [
    "# PostgreSQL Playground\n",
    "import psycopg2\n",
    "import os\n",
    "\n",
    "DATABASE_URL = os.environ['DATABASE_URL']\n",
    "DATABASE_URL\n",
    "conn = psycopg2.connect(DATABASE_URL, sslmode='require')"
   ]
  },
  {
   "cell_type": "code",
   "execution_count": null,
   "metadata": {},
   "outputs": [],
   "source": []
  }
 ],
 "metadata": {
  "deepnote_execution_queue": [],
  "kernelspec": {
   "display_name": "Python 3",
   "language": "python",
   "name": "python3"
  },
  "language_info": {
   "codemirror_mode": {
    "name": "ipython",
    "version": 3
   },
   "file_extension": ".py",
   "mimetype": "text/x-python",
   "name": "python",
   "nbconvert_exporter": "python",
   "pygments_lexer": "ipython3",
   "version": "3.8.1"
  }
 },
 "nbformat": 4,
 "nbformat_minor": 2
}
