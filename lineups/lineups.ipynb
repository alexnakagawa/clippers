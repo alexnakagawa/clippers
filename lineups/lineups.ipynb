{
 "cells": [
  {
   "cell_type": "markdown",
   "metadata": {
    "cell_id": "c69c2c2c-d303-4a6e-89c9-96ed862d940e",
    "tags": []
   },
   "source": [
    "<img src='https://external-content.duckduckgo.com/iu/?u=https%3A%2F%2Fscoreboredsports.com%2Fwp-content%2Fuploads%2F2016%2F06%2FClippers-logo.png&f=1&nofb=1' style='height: 128px; float:right'/>\n",
    "\n",
    "# LA Clippers Lineup Analysis\n",
    "\n",
    "Author: Alex Nakagawa\n",
    "\n",
    "Last Updated: May 18, 2020"
   ]
  },
  {
   "cell_type": "markdown",
   "metadata": {},
   "source": [
    "<div class='alert alert-info'>\n",
    "ALERT: Please ensure that you have switched to a kernel that contains the environment variables listed below.\n",
    "</div>"
   ]
  },
  {
   "cell_type": "code",
   "execution_count": null,
   "metadata": {},
   "outputs": [],
   "source": [
    "import json\n",
    "import glob\n",
    "import re\n",
    "import os\n",
    "\n",
    "import psycopg2\n",
    "import sqlalchemy\n",
    "\n",
    "assert psycopg2.__version__ == '2.8.5 (dt dec pq3 ext lo64)'\n",
    "assert sqlalchemy.__version__ == '1.3.16'"
   ]
  },
  {
   "cell_type": "code",
   "execution_count": null,
   "metadata": {},
   "outputs": [],
   "source": [
    "DATABASE_HOST = os.environ.get('DATABASE_HOST')\n",
    "POSTGRES_USER = os.environ.get('POSTGRES_USER')\n",
    "POSTGRES_PASSWORD = os.environ.get('POSTGRES_PASSWORD') \n",
    "DATABASE_NAME = os.environ.get('DATABASE_NAME')\n",
    "\n",
    "# Ensure that all environment variables are not a None type\n",
    "assert DATABASE_HOST and POSTGRES_USER and POSTGRES_PASSWORD and DATABASE_NAME"
   ]
  },
  {
   "cell_type": "code",
   "execution_count": null,
   "metadata": {
    "cell_id": "0929c258-e8e7-4de5-a0c3-f8a4bec085ee"
   },
   "outputs": [],
   "source": [
    "!python3 --version"
   ]
  },
  {
   "cell_type": "markdown",
   "metadata": {
    "cell_id": "534b3a78-0b81-4566-be5f-34a412bd5ae7",
    "tags": []
   },
   "source": [
    "## 1. Table Creation/Update in PostgreSQL\n",
    "\n",
    "a. Write code to transfer the files from a directory called `dev_test_data` to a SQL database called `lac_dev_lineups` (code can be Python, SQL, etc.)\n",
    "\n",
    "i. The tables created should be named `team`, `player`, `game_schedule`, and `lineup`\n",
    "\n",
    "ii. Make sure your code creates tables if needed and that it can handle data reloads, merges, and/or\n",
    "updates\n"
   ]
  },
  {
   "cell_type": "markdown",
   "metadata": {},
   "source": [
    "The following code creates a python dictionary containing the contents of the jsons given by extracting from a `directory`, which in this case is `dev_test_data`."
   ]
  },
  {
   "cell_type": "code",
   "execution_count": null,
   "metadata": {
    "cell_id": "539f5b47-ef5b-4991-8b03-1a0ffdeba39c",
    "tags": []
   },
   "outputs": [],
   "source": [
    "# Determining the schema needed to design the database\n",
    "\n",
    "def create_data_map(directory):\n",
    "    data_file_paths = glob.glob(\"{}/*.json\".format(directory))\n",
    "    data = {} # Dictionary of python-encoded json objects\n",
    "    for f in data_file_paths:\n",
    "        search_obj = re.search(r'{}/(.+).json'.format(directory), data_file_paths[0], re.M|re.I) \n",
    "        subfile_name = search_obj.group(1) # Return file name\n",
    "        with open(f, \"r\") as read_file:\n",
    "            data[subfile_name] = json.load(read_file)\n",
    "    return data\n",
    "\n",
    "data = create_data_map('dev_test_data')"
   ]
  },
  {
   "cell_type": "markdown",
   "metadata": {},
   "source": [
    "The next block establishes the connection with the database. The database is a Cloud SQL Instance in the Google Cloud Platform, which is hosting our PostgreSQL 12 database named `lac_dev_lineups`. Configurations are listed as follows:\n",
    "\n",
    "* GCP Project ID: **`clippers-test-1`**\n",
    "* CloudSQL Instance ID: **`clippers-test-instance`**\n",
    "* PostgreSQL Version: **12**\n",
    "\n",
    "A snapshot of the current running GCP project (`clippers-test-1`) is attached.\n",
    "\n",
    "<img src='./images/gcp_console.jpg' style='height: 256px' />"
   ]
  },
  {
   "cell_type": "code",
   "execution_count": null,
   "metadata": {},
   "outputs": [],
   "source": [
    "from sqlalchemy import Column, ForeignKey, Integer, String\n",
    "from sqlalchemy.ext.declarative import declarative_base\n",
    "from sqlalchemy.orm import relationship\n",
    "from sqlalchemy import create_engine\n",
    "\n",
    "Base = declarative_base()\n",
    "\n",
    "class "
   ]
  },
  {
   "cell_type": "code",
   "execution_count": null,
   "metadata": {
    "cell_id": "d87f8df0-3dc8-4d4b-813c-597fd5aa7ee3",
    "tags": []
   },
   "outputs": [],
   "source": [
    "# PostgreSQL + SQLAlchemy\n",
    "ENGINE_STRING = 'postgresql+psycopg2://{}:{}@{}/{}'.format(POSTGRES_USER,\n",
    "                                                           POSTGRES_PASSWORD,\n",
    "                                                           DATABASE_HOST,\n",
    "                                                           DATABASE_NAME)\n",
    "\n",
    "try:\n",
    "    engine = sqlalchemy.create_engine(ENGINE_STRING)\n",
    "    print(\"Connection SUCCESS.\")\n",
    "except:\n",
    "    print(\"Connection to database failed. Check environment variables.\")"
   ]
  }
 ],
 "metadata": {
  "deepnote_execution_queue": [],
  "kernelspec": {
   "display_name": "Python 3 - Clippers",
   "language": "python",
   "name": "python3-lac"
  },
  "language_info": {
   "codemirror_mode": {
    "name": "ipython",
    "version": 3
   },
   "file_extension": ".py",
   "mimetype": "text/x-python",
   "name": "python",
   "nbconvert_exporter": "python",
   "pygments_lexer": "ipython3",
   "version": "3.8.1"
  }
 },
 "nbformat": 4,
 "nbformat_minor": 2
}
